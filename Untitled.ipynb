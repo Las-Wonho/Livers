{
 "cells": [
  {
   "cell_type": "code",
   "execution_count": 2,
   "metadata": {},
   "outputs": [],
   "source": [
    "import tensorflow as tf\n",
    "import numpy as np"
   ]
  },
  {
   "cell_type": "code",
   "execution_count": 3,
   "metadata": {},
   "outputs": [],
   "source": [
    "def generate(Z):\n",
    "    w1 = tf.Variable(tf.random_normal([100, 16384]))\n",
    "    h1 = tf.matmul(Z,w1)\n",
    "    re = tf.reshape(h1,[-1,4,4,1024])\n",
    "    re = tf.layers.batch_normalization(re)\n",
    "\n",
    "    conv_h1 = tf.layers.conv2d_transpose(re ,512, 5, 2, padding='same')\n",
    "    \n",
    "    conv_h1 = tf.nn.relu(conv_h1)\n",
    "\n",
    "    conv_h2 = tf.layers.conv2d_transpose(conv_h1 ,256, 4, 2, padding='same')\n",
    "    conv_h2 = tf.nn.relu(conv_h2)\n",
    "\n",
    "    conv_h3 = tf.layers.conv2d_transpose(conv_h2 ,128, 4, 2, padding='same')\n",
    "    conv_h3 = tf.nn.relu(conv_h3)\n",
    "\n",
    "    conv_h5 = tf.layers.conv2d_transpose(conv_h3 ,3, 4, 2, padding='same')\n",
    "    return conv_h5"
   ]
  },
  {
   "cell_type": "code",
   "execution_count": 5,
   "metadata": {},
   "outputs": [],
   "source": [
    "def get_noise(batch_size, n_noise):\n",
    "    return np.random.uniform(-1., 1., size = [batch_size, n_noise])"
   ]
  },
  {
   "cell_type": "code",
   "execution_count": 4,
   "metadata": {},
   "outputs": [],
   "source": [
    "X = tf.placeholder(tf.float32,[None, 100])\n",
    "G = generate(X)"
   ]
  },
  {
   "cell_type": "code",
   "execution_count": 20,
   "metadata": {},
   "outputs": [
    {
     "data": {
      "text/plain": [
       "array([[[[ 3.45341954e-03,  2.64676288e-03,  1.49093177e-02],\n",
       "         [ 6.52451999e-05, -2.57915109e-02, -3.20695248e-03],\n",
       "         [ 2.70977765e-02,  1.57667268e-02,  4.70698765e-03],\n",
       "         ...,\n",
       "         [-4.87856716e-02, -7.64930621e-04, -4.45398279e-02],\n",
       "         [-4.02577072e-02, -3.79795395e-02, -1.85771994e-02],\n",
       "         [ 1.09759308e-02,  2.42640153e-02, -4.48391214e-03]],\n",
       "\n",
       "        [[ 1.29843615e-02, -3.70309800e-02, -1.66451018e-02],\n",
       "         [-4.59995419e-02,  2.68362425e-02, -4.36136127e-02],\n",
       "         [-5.49901016e-02,  4.14083637e-02, -3.75150517e-02],\n",
       "         ...,\n",
       "         [ 1.72995418e-01, -5.64743206e-03,  1.72689557e-04],\n",
       "         [-9.51852053e-02, -1.22316815e-01, -1.20918602e-01],\n",
       "         [ 7.22607449e-02,  8.70027915e-02, -2.38068569e-02]],\n",
       "\n",
       "        [[ 5.82173467e-03, -2.33567646e-03,  5.87986596e-03],\n",
       "         [-5.86307161e-02, -8.73594172e-03,  3.84318754e-02],\n",
       "         [ 4.60956767e-02,  3.99274901e-02,  3.48388031e-02],\n",
       "         ...,\n",
       "         [ 5.76273128e-02, -1.08903646e-03, -6.97141364e-02],\n",
       "         [ 4.79061827e-02, -2.16586888e-03, -8.06133077e-02],\n",
       "         [-7.08283205e-03, -6.24872465e-03, -1.43701971e-01]],\n",
       "\n",
       "        ...,\n",
       "\n",
       "        [[-5.72077557e-03, -5.00748716e-02, -3.32286954e-03],\n",
       "         [-2.50224024e-04, -7.06251487e-02, -6.16303980e-02],\n",
       "         [ 1.37933716e-01, -1.27334744e-01, -6.17147908e-02],\n",
       "         ...,\n",
       "         [ 2.85549104e-01, -7.86843896e-02, -4.36447337e-02],\n",
       "         [-9.27023068e-02,  1.23425022e-01, -1.31829217e-01],\n",
       "         [ 6.33648559e-02, -1.99263338e-02,  2.23882236e-02]],\n",
       "\n",
       "        [[ 3.32469232e-02, -1.57379955e-02,  2.93386094e-02],\n",
       "         [-7.31386691e-02, -6.27125576e-02, -5.51135354e-02],\n",
       "         [-4.29664142e-02, -3.52575257e-02, -6.51026815e-02],\n",
       "         ...,\n",
       "         [-3.53008620e-02, -8.02364498e-02, -1.82344113e-02],\n",
       "         [ 8.40481073e-02,  8.78708363e-02,  1.14818737e-01],\n",
       "         [-9.15519148e-03,  1.32894255e-02, -6.54505044e-02]],\n",
       "\n",
       "        [[-2.23126495e-03,  3.52228759e-04,  7.66728830e-04],\n",
       "         [ 1.16897710e-02, -2.12730858e-02, -4.16599326e-02],\n",
       "         [ 6.99442774e-02,  1.58905108e-02,  1.20227328e-02],\n",
       "         ...,\n",
       "         [ 6.18139468e-02, -2.31252927e-02, -1.34138614e-01],\n",
       "         [ 1.13205343e-01, -8.09841231e-02,  5.88989854e-02],\n",
       "         [ 4.17351611e-02, -1.33224009e-02, -3.29451412e-02]]]],\n",
       "      dtype=float32)"
      ]
     },
     "execution_count": 20,
     "metadata": {},
     "output_type": "execute_result"
    }
   ],
   "source": [
    "n = get_noise(1,100)\n",
    "sess = tf.Session()\n",
    "sess.run(tf.global_variables_initializer())\n",
    "sess.run(G, feed_dict={X : n})"
   ]
  },
  {
   "cell_type": "code",
   "execution_count": null,
   "metadata": {},
   "outputs": [],
   "source": []
  }
 ],
 "metadata": {
  "kernelspec": {
   "display_name": "Python 3",
   "language": "python",
   "name": "python3"
  },
  "language_info": {
   "codemirror_mode": {
    "name": "ipython",
    "version": 3
   },
   "file_extension": ".py",
   "mimetype": "text/x-python",
   "name": "python",
   "nbconvert_exporter": "python",
   "pygments_lexer": "ipython3",
   "version": "3.6.5"
  }
 },
 "nbformat": 4,
 "nbformat_minor": 2
}
